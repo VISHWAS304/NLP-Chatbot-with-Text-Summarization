{
 "cells": [
  {
   "cell_type": "code",
   "execution_count": 1,
   "id": "66a68d05",
   "metadata": {},
   "outputs": [
    {
     "data": {
      "text/html": [
       "<div>\n",
       "<style scoped>\n",
       "    .dataframe tbody tr th:only-of-type {\n",
       "        vertical-align: middle;\n",
       "    }\n",
       "\n",
       "    .dataframe tbody tr th {\n",
       "        vertical-align: top;\n",
       "    }\n",
       "\n",
       "    .dataframe thead th {\n",
       "        text-align: right;\n",
       "    }\n",
       "</style>\n",
       "<table border=\"1\" class=\"dataframe\">\n",
       "  <thead>\n",
       "    <tr style=\"text-align: right;\">\n",
       "      <th></th>\n",
       "      <th>dialogue</th>\n",
       "    </tr>\n",
       "  </thead>\n",
       "  <tbody>\n",
       "    <tr>\n",
       "      <th>0</th>\n",
       "      <td>Customer: one masala dosa Bot Response: So far...</td>\n",
       "    </tr>\n",
       "    <tr>\n",
       "      <th>1</th>\n",
       "      <td>Customer: 1 pizza Bot Response: So far you hav...</td>\n",
       "    </tr>\n",
       "    <tr>\n",
       "      <th>2</th>\n",
       "      <td>Customer: one rava dosa Bot Response: So far y...</td>\n",
       "    </tr>\n",
       "    <tr>\n",
       "      <th>3</th>\n",
       "      <td>Customer: Thats it Bot Response: Awesome. We h...</td>\n",
       "    </tr>\n",
       "    <tr>\n",
       "      <th>4</th>\n",
       "      <td>Customer: my order id is 64 Bot Response: The ...</td>\n",
       "    </tr>\n",
       "    <tr>\n",
       "      <th>5</th>\n",
       "      <td>Customer: The delivery took much longer than p...</td>\n",
       "    </tr>\n",
       "    <tr>\n",
       "      <th>6</th>\n",
       "      <td>Customer: The Rava Dosa was burnt and had a bi...</td>\n",
       "    </tr>\n",
       "    <tr>\n",
       "      <th>7</th>\n",
       "      <td>Customer: masala dosa was bad Bot Response: We...</td>\n",
       "    </tr>\n",
       "    <tr>\n",
       "      <th>8</th>\n",
       "      <td>Customer: Masala Dosa for $6 feels high  price...</td>\n",
       "    </tr>\n",
       "  </tbody>\n",
       "</table>\n",
       "</div>"
      ],
      "text/plain": [
       "                                            dialogue\n",
       "0  Customer: one masala dosa Bot Response: So far...\n",
       "1  Customer: 1 pizza Bot Response: So far you hav...\n",
       "2  Customer: one rava dosa Bot Response: So far y...\n",
       "3  Customer: Thats it Bot Response: Awesome. We h...\n",
       "4  Customer: my order id is 64 Bot Response: The ...\n",
       "5  Customer: The delivery took much longer than p...\n",
       "6  Customer: The Rava Dosa was burnt and had a bi...\n",
       "7  Customer: masala dosa was bad Bot Response: We...\n",
       "8  Customer: Masala Dosa for $6 feels high  price..."
      ]
     },
     "execution_count": 1,
     "metadata": {},
     "output_type": "execute_result"
    }
   ],
   "source": [
    "import pymongo\n",
    "import pandas as pd\n",
    "\n",
    "# Establishing a connection to the MongoDB server\n",
    "client = pymongo.MongoClient(\"localhost:27017\")\n",
    "\n",
    "# Selecting the database and collection\n",
    "db = client[\"chat_messages\"]\n",
    "collection = db[\"session_/sessions/webdemo-3152eb9d-862d-80f1-b3d8-8f05ff3480bf/contexts/\"]\n",
    "\n",
    "# Query data: Retrieving only \"queryText\" and \"fulfillmentText\" while omitting the MongoDB \"_id\" field\n",
    "data = list(collection.find({}, {\"_id\": 0, \"queryText\": 1, \"fulfillmentText\": 1}))\n",
    "\n",
    "# Merging 'queryText' and 'fulfillmentText' into a single column named \"dialogue\"\n",
    "for d in data:\n",
    "    d['dialogue'] = f\"Customer: {d.get('queryText', '')} Bot Response: {d.get('fulfillmentText', '')}\"\n",
    "    del d['queryText']  # Remove 'queryText' field\n",
    "    del d['fulfillmentText']  # Remove 'fulfillmentText' field\n",
    "\n",
    "# Convert to DataFrame\n",
    "df = pd.DataFrame(data)\n",
    "\n",
    "df"
   ]
  },
  {
   "cell_type": "code",
   "execution_count": 2,
   "id": "3948e584",
   "metadata": {},
   "outputs": [
    {
     "name": "stdout",
     "output_type": "stream",
     "text": [
      "Customer: one masala dosa Bot Response: So far you have: 1 Masala Dosa. Do you need anything else? Customer: 1 pizza Bot Response: So far you have: 1 Masala Dosa, 1 Pizza. Do you need anything else? Customer: one rava dosa Bot Response: So far you have: 1 Masala Dosa, 1 Pizza, 1 Rava Dosa. Do you need anything else? Customer: Thats it Bot Response: Awesome. We have placed your order. Here is your order id # 64. Your order total is 21.00 which you can pay at the time of delivery! Customer: my order id is 64 Bot Response: The order status for order id: 64 is: in progress Customer: The delivery took much longer than promised. Very disappointed with the service Bot Response: We apologize for any inconvenience caused by the delivery. Your feedback is valuable to us. Please contact us so we can address this issue promptly. Customer: The Rava Dosa was burnt and had a bitter aftertaste Bot Response: We're sorry to hear that review The Rava Dosa was burnt and had a bitter aftertaste from you. Your feedback is important to us. Please contact us so we can address this issue promptly. Customer: masala dosa was bad Bot Response: We're sorry to hear that review masala dosa was bad from you. Your feedback is important to us. Please contact us so we can address this issue promptly. Customer: Masala Dosa for $6 feels high  price. Bot Response: We're sorry to hear that review regarding Masala Dosa priced at $6.00 from you. Your feedback is important to us. Please contact us so we can address this issue promptly.\n"
     ]
    }
   ],
   "source": [
    "# Combine all dialogue entries into a single string\n",
    "paragraph = \" \".join(df[\"dialogue\"].tolist())\n",
    "\n",
    "print(paragraph)\n"
   ]
  },
  {
   "cell_type": "code",
   "execution_count": null,
   "id": "ec0c0205",
   "metadata": {},
   "outputs": [],
   "source": []
  }
 ],
 "metadata": {
  "kernelspec": {
   "display_name": "Python 3 (ipykernel)",
   "language": "python",
   "name": "python3"
  },
  "language_info": {
   "codemirror_mode": {
    "name": "ipython",
    "version": 3
   },
   "file_extension": ".py",
   "mimetype": "text/x-python",
   "name": "python",
   "nbconvert_exporter": "python",
   "pygments_lexer": "ipython3",
   "version": "3.11.5"
  }
 },
 "nbformat": 4,
 "nbformat_minor": 5
}
