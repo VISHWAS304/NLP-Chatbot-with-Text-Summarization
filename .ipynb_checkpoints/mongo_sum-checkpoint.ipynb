{
 "cells": [
  {
   "cell_type": "code",
   "execution_count": 1,
   "id": "38ec26c0",
   "metadata": {},
   "outputs": [],
   "source": [
    "import pymongo\n",
    "\n",
    "client = pymongo.MongoClient(\"localhost:27017\")\n",
    "db = client[\"chat_messages\"]\n",
    "collection = db[\"session_/sessions/webdemo-59e83880-f44b-001e-6164-9b85d49bb9e0/contexts/\"]\n"
   ]
  },
  {
   "cell_type": "code",
   "execution_count": 2,
   "id": "f6a6d26e",
   "metadata": {},
   "outputs": [
    {
     "data": {
      "text/html": [
       "<div>\n",
       "<style scoped>\n",
       "    .dataframe tbody tr th:only-of-type {\n",
       "        vertical-align: middle;\n",
       "    }\n",
       "\n",
       "    .dataframe tbody tr th {\n",
       "        vertical-align: top;\n",
       "    }\n",
       "\n",
       "    .dataframe thead th {\n",
       "        text-align: right;\n",
       "    }\n",
       "</style>\n",
       "<table border=\"1\" class=\"dataframe\">\n",
       "  <thead>\n",
       "    <tr style=\"text-align: right;\">\n",
       "      <th></th>\n",
       "      <th>dialogue</th>\n",
       "    </tr>\n",
       "  </thead>\n",
       "  <tbody>\n",
       "    <tr>\n",
       "      <th>0</th>\n",
       "      <td>Customer: I had issues with the delivery track...</td>\n",
       "    </tr>\n",
       "    <tr>\n",
       "      <th>1</th>\n",
       "      <td>Customer: Pav Bhaji for $6 is a bit steep, don...</td>\n",
       "    </tr>\n",
       "    <tr>\n",
       "      <th>2</th>\n",
       "      <td>Customer: The Masala Dosa tasted okay, but it ...</td>\n",
       "    </tr>\n",
       "    <tr>\n",
       "      <th>3</th>\n",
       "      <td>Customer: masala dosa was good</td>\n",
       "    </tr>\n",
       "    <tr>\n",
       "      <th>4</th>\n",
       "      <td>Customer: masala dosa was good and pizza was b...</td>\n",
       "    </tr>\n",
       "  </tbody>\n",
       "</table>\n",
       "</div>"
      ],
      "text/plain": [
       "                                            dialogue\n",
       "0  Customer: I had issues with the delivery track...\n",
       "1  Customer: Pav Bhaji for $6 is a bit steep, don...\n",
       "2  Customer: The Masala Dosa tasted okay, but it ...\n",
       "3                     Customer: masala dosa was good\n",
       "4  Customer: masala dosa was good and pizza was b..."
      ]
     },
     "execution_count": 2,
     "metadata": {},
     "output_type": "execute_result"
    }
   ],
   "source": [
    "import pandas as pd\n",
    "\n",
    "# Query data\n",
    "data = list(collection.find({}, {\"_id\": 0, \"queryText\": 1,\"fulfillmentTextt\":2}))  # Retrieve only \"queryText\" and \"fulfillmentText\"\n",
    "\n",
    "# Merge queryText and fulfillmentText into a single column named \"dialogue\"\n",
    "for d in data:\n",
    "    d['dialogue'] = f\"Customer: {d['queryText']}\"\n",
    "    del d['queryText']  # Remove queryText field\n",
    "\n",
    "# Convert to DataFrame\n",
    "df = pd.DataFrame(data)\n",
    "\n",
    "\n",
    "df"
   ]
  },
  {
   "cell_type": "code",
   "execution_count": 3,
   "id": "3948e584",
   "metadata": {},
   "outputs": [
    {
     "name": "stdout",
     "output_type": "stream",
     "text": [
      "Customer: I had issues with the delivery tracking. It wasn't accurate. Customer: Pav Bhaji for $6 is a bit steep, don't you think? Customer: The Masala Dosa tasted okay, but it didn't wow me. Customer: masala dosa was good Customer: masala dosa was good and pizza was bad ,mango lassi was average\n"
     ]
    }
   ],
   "source": [
    "# Combine all dialogue entries into a single string\n",
    "paragraph = \" \".join(df[\"dialogue\"].tolist())\n",
    "\n",
    "\n",
    "\n",
    "print(paragraph)\n"
   ]
  },
  {
   "cell_type": "code",
   "execution_count": null,
   "id": "291032ed",
   "metadata": {},
   "outputs": [],
   "source": []
  }
 ],
 "metadata": {
  "kernelspec": {
   "display_name": "Python 3 (ipykernel)",
   "language": "python",
   "name": "python3"
  },
  "language_info": {
   "codemirror_mode": {
    "name": "ipython",
    "version": 3
   },
   "file_extension": ".py",
   "mimetype": "text/x-python",
   "name": "python",
   "nbconvert_exporter": "python",
   "pygments_lexer": "ipython3",
   "version": "3.11.5"
  }
 },
 "nbformat": 4,
 "nbformat_minor": 5
}
