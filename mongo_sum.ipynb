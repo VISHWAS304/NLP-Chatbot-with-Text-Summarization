{
 "cells": [
  {
   "cell_type": "code",
   "execution_count": 1,
   "id": "66a68d05",
   "metadata": {},
   "outputs": [
    {
     "data": {
      "text/html": [
       "<div>\n",
       "<style scoped>\n",
       "    .dataframe tbody tr th:only-of-type {\n",
       "        vertical-align: middle;\n",
       "    }\n",
       "\n",
       "    .dataframe tbody tr th {\n",
       "        vertical-align: top;\n",
       "    }\n",
       "\n",
       "    .dataframe thead th {\n",
       "        text-align: right;\n",
       "    }\n",
       "</style>\n",
       "<table border=\"1\" class=\"dataframe\">\n",
       "  <thead>\n",
       "    <tr style=\"text-align: right;\">\n",
       "      <th></th>\n",
       "      <th>dialogue</th>\n",
       "    </tr>\n",
       "  </thead>\n",
       "  <tbody>\n",
       "    <tr>\n",
       "      <th>0</th>\n",
       "      <td>Customer: one masala dosa Bot Response: So far...</td>\n",
       "    </tr>\n",
       "    <tr>\n",
       "      <th>1</th>\n",
       "      <td>Customer: 1 pizza Bot Response: So far you hav...</td>\n",
       "    </tr>\n",
       "    <tr>\n",
       "      <th>2</th>\n",
       "      <td>Customer: thats it Bot Response: Awesome. We h...</td>\n",
       "    </tr>\n",
       "    <tr>\n",
       "      <th>3</th>\n",
       "      <td>Customer: 61 Bot Response: The order status fo...</td>\n",
       "    </tr>\n",
       "    <tr>\n",
       "      <th>4</th>\n",
       "      <td>Customer: masala dosa was good Bot Response: T...</td>\n",
       "    </tr>\n",
       "    <tr>\n",
       "      <th>5</th>\n",
       "      <td>Customer: masala dosa was bad Bot Response: We...</td>\n",
       "    </tr>\n",
       "  </tbody>\n",
       "</table>\n",
       "</div>"
      ],
      "text/plain": [
       "                                            dialogue\n",
       "0  Customer: one masala dosa Bot Response: So far...\n",
       "1  Customer: 1 pizza Bot Response: So far you hav...\n",
       "2  Customer: thats it Bot Response: Awesome. We h...\n",
       "3  Customer: 61 Bot Response: The order status fo...\n",
       "4  Customer: masala dosa was good Bot Response: T...\n",
       "5  Customer: masala dosa was bad Bot Response: We..."
      ]
     },
     "execution_count": 1,
     "metadata": {},
     "output_type": "execute_result"
    }
   ],
   "source": [
    "import pymongo\n",
    "import pandas as pd\n",
    "\n",
    "# Establishing a connection to the MongoDB server\n",
    "client = pymongo.MongoClient(\"localhost:27017\")\n",
    "\n",
    "# Selecting the database and collection\n",
    "db = client[\"chat_messages\"]\n",
    "collection = db[\"session_/sessions/webdemo-8381040c-07dd-adcf-93b2-2b84d0f7f006/contexts/\"]\n",
    "\n",
    "# Query data: Retrieving only \"queryText\" and \"fulfillmentText\" while omitting the MongoDB \"_id\" field\n",
    "data = list(collection.find({}, {\"_id\": 0, \"queryText\": 1, \"fulfillmentText\": 1}))\n",
    "\n",
    "# Merging 'queryText' and 'fulfillmentText' into a single column named \"dialogue\"\n",
    "for d in data:\n",
    "    d['dialogue'] = f\"Customer: {d.get('queryText', '')} Bot Response: {d.get('fulfillmentText', '')}\"\n",
    "    del d['queryText']  # Remove 'queryText' field\n",
    "    del d['fulfillmentText']  # Remove 'fulfillmentText' field\n",
    "\n",
    "# Convert to DataFrame\n",
    "df = pd.DataFrame(data)\n",
    "\n",
    "df"
   ]
  },
  {
   "cell_type": "code",
   "execution_count": 2,
   "id": "3948e584",
   "metadata": {},
   "outputs": [
    {
     "name": "stdout",
     "output_type": "stream",
     "text": [
      "Customer: one masala dosa Bot Response: So far you have: 1 Masala Dosa. Do you need anything else? Customer: 1 pizza Bot Response: So far you have: 1 Masala Dosa, 1 Pizza. Do you need anything else? Customer: thats it Bot Response: Awesome. We have placed your order. Here is your order id # 61. Your order total is 14.00 which you can pay at the time of delivery! Customer: 61 Bot Response: The order status for order id: 61 is: in progress Customer: masala dosa was good Bot Response: Thank you for your wonderful feedback! We're thrilled you enjoyed the masala dosa was good. Your satisfaction means the world to us. Customer: masala dosa was bad Bot Response: We're sorry to hear that review masala dosa was bad from you. Your feedback is important to us. Please contact us so we can address this issue promptly.\n"
     ]
    }
   ],
   "source": [
    "# Combine all dialogue entries into a single string\n",
    "paragraph = \" \".join(df[\"dialogue\"].tolist())\n",
    "\n",
    "print(paragraph)\n"
   ]
  },
  {
   "cell_type": "code",
   "execution_count": 4,
   "id": "291032ed",
   "metadata": {},
   "outputs": [
    {
     "name": "stdout",
     "output_type": "stream",
     "text": [
      "                                           queryText\n",
      "0  I'm impressed with the quick delivery and how ...\n",
      "1  The Rava Dosa was burnt and had a bitter after...\n",
      "2                Chole Bhature for $7 is overpriced.\n",
      "3  Vegetable Biryani for $9 is too much for my bu...\n",
      "4                Samosa for $5 seems a bit expensive\n",
      "5  Pav Bhaji for $6 is a bit steep, don't you think?\n",
      "6  I had issues with the delivery tracking. It wa...\n"
     ]
    }
   ],
   "source": [
    "import pymongo\n",
    "import pandas as pd\n",
    "\n",
    "# Establishing a connection to the MongoDB server\n",
    "client = pymongo.MongoClient(\"localhost:27017\")\n",
    "\n",
    "# Selecting the database and collection\n",
    "db = client[\"chat_messages\"]\n",
    "collection = db[\"session_/sessions/webdemo-c2e118ed-f859-2b26-3884-77f38be5e555/contexts/\"]\n",
    "\n",
    "# Query data: Retrieving only \"queryText\" while omitting the MongoDB \"_id\" field\n",
    "data = list(collection.find({}, {\"_id\": 0, \"queryText\": 1}))\n",
    "\n",
    "# Creating a DataFrame from the extracted queryTexts\n",
    "df1 = pd.DataFrame(data)\n",
    "\n",
    "# Display the DataFrame containing only the queryText\n",
    "print(df1)\n"
   ]
  },
  {
   "cell_type": "code",
   "execution_count": 6,
   "id": "c95e295c",
   "metadata": {},
   "outputs": [
    {
     "name": "stdout",
     "output_type": "stream",
     "text": [
      "I'm impressed with the quick delivery and how well-packaged the food was. The Rava Dosa was burnt and had a bitter aftertaste Chole Bhature for $7 is overpriced. Vegetable Biryani for $9 is too much for my budget. Samosa for $5 seems a bit expensive Pav Bhaji for $6 is a bit steep, don't you think? I had issues with the delivery tracking. It wasn't accurate.\n"
     ]
    }
   ],
   "source": [
    "# Combine all dialogue entries into a single string\n",
    "paragraph = \" \".join(df1[\"queryText\"].tolist())\n",
    "\n",
    "print(paragraph)\n"
   ]
  },
  {
   "cell_type": "code",
   "execution_count": null,
   "id": "ec0c0205",
   "metadata": {},
   "outputs": [],
   "source": []
  }
 ],
 "metadata": {
  "kernelspec": {
   "display_name": "Python 3 (ipykernel)",
   "language": "python",
   "name": "python3"
  },
  "language_info": {
   "codemirror_mode": {
    "name": "ipython",
    "version": 3
   },
   "file_extension": ".py",
   "mimetype": "text/x-python",
   "name": "python",
   "nbconvert_exporter": "python",
   "pygments_lexer": "ipython3",
   "version": "3.11.5"
  }
 },
 "nbformat": 4,
 "nbformat_minor": 5
}
